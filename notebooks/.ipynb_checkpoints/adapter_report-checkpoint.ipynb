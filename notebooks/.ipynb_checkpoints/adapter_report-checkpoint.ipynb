{
 "cells": [
  {
   "cell_type": "code",
   "execution_count": 6,
   "id": "97fd106f-4f52-4c89-b2b6-99854c27dba8",
   "metadata": {},
   "outputs": [],
   "source": [
    "import pandas as pd\n",
    "import os\n",
    "import re\n",
    "import glob"
   ]
  },
  {
   "cell_type": "code",
   "execution_count": 19,
   "id": "a81f3ca3-aa5e-4f28-81ae-35a5f1ffd00b",
   "metadata": {},
   "outputs": [
    {
     "name": "stdout",
     "output_type": "stream",
     "text": [
      "df.shape=(37432, 3)\n"
     ]
    },
    {
     "data": {
      "text/html": [
       "<div>\n",
       "<style scoped>\n",
       "    .dataframe tbody tr th:only-of-type {\n",
       "        vertical-align: middle;\n",
       "    }\n",
       "\n",
       "    .dataframe tbody tr th {\n",
       "        vertical-align: top;\n",
       "    }\n",
       "\n",
       "    .dataframe thead th {\n",
       "        text-align: right;\n",
       "    }\n",
       "</style>\n",
       "<table border=\"1\" class=\"dataframe\">\n",
       "  <thead>\n",
       "    <tr style=\"text-align: right;\">\n",
       "      <th></th>\n",
       "      <th>Name</th>\n",
       "      <th>count</th>\n",
       "      <th>basename</th>\n",
       "    </tr>\n",
       "  </thead>\n",
       "  <tbody>\n",
       "    <tr>\n",
       "      <th>0</th>\n",
       "      <td>SQK-MAP006_Y_Bottom_SK64</td>\n",
       "      <td>821562</td>\n",
       "      <td>o4b01.txt</td>\n",
       "    </tr>\n",
       "    <tr>\n",
       "      <th>1</th>\n",
       "      <td>BC01_rev</td>\n",
       "      <td>812206</td>\n",
       "      <td>o4b01.txt</td>\n",
       "    </tr>\n",
       "    <tr>\n",
       "      <th>2</th>\n",
       "      <td>BC01</td>\n",
       "      <td>401603</td>\n",
       "      <td>o4b01.txt</td>\n",
       "    </tr>\n",
       "    <tr>\n",
       "      <th>3</th>\n",
       "      <td>PCR_2_start</td>\n",
       "      <td>392930</td>\n",
       "      <td>o4b01.txt</td>\n",
       "    </tr>\n",
       "    <tr>\n",
       "      <th>4</th>\n",
       "      <td>PCR_1_end</td>\n",
       "      <td>51469</td>\n",
       "      <td>o4b01.txt</td>\n",
       "    </tr>\n",
       "  </tbody>\n",
       "</table>\n",
       "</div>"
      ],
      "text/plain": [
       "                         Name   count   basename\n",
       "0    SQK-MAP006_Y_Bottom_SK64  821562  o4b01.txt\n",
       "1                    BC01_rev  812206  o4b01.txt\n",
       "2                        BC01  401603  o4b01.txt\n",
       "3                 PCR_2_start  392930  o4b01.txt\n",
       "4                   PCR_1_end   51469  o4b01.txt"
      ]
     },
     "execution_count": 19,
     "metadata": {},
     "output_type": "execute_result"
    }
   ],
   "source": [
    "fpath = \"/scratch/indikar_root/indikar1/shared_data/adapter_clean_up/reports/adapter_summary.csv\"\n",
    "\n",
    "df = pd.read_csv(fpath)\n",
    "print(f\"{df.shape=}\")\n",
    "df.head()"
   ]
  },
  {
   "cell_type": "code",
   "execution_count": 53,
   "id": "812b9c00-9f67-4105-863c-5f765fbf33d2",
   "metadata": {},
   "outputs": [
    {
     "data": {
      "text/html": [
       "<div>\n",
       "<style scoped>\n",
       "    .dataframe tbody tr th:only-of-type {\n",
       "        vertical-align: middle;\n",
       "    }\n",
       "\n",
       "    .dataframe tbody tr th {\n",
       "        vertical-align: top;\n",
       "    }\n",
       "\n",
       "    .dataframe thead th {\n",
       "        text-align: right;\n",
       "    }\n",
       "</style>\n",
       "<table border=\"1\" class=\"dataframe\">\n",
       "  <thead>\n",
       "    <tr style=\"text-align: right;\">\n",
       "      <th></th>\n",
       "      <th>Name</th>\n",
       "      <th>count</th>\n",
       "      <th>basename</th>\n",
       "      <th>adapter_type</th>\n",
       "      <th>sample</th>\n",
       "      <th>cell</th>\n",
       "    </tr>\n",
       "  </thead>\n",
       "  <tbody>\n",
       "    <tr>\n",
       "      <th>0</th>\n",
       "      <td>SQK-MAP006_Y_Bottom_SK64</td>\n",
       "      <td>821562</td>\n",
       "      <td>o4b01.txt</td>\n",
       "      <td>PCR</td>\n",
       "      <td>o4</td>\n",
       "      <td>b01</td>\n",
       "    </tr>\n",
       "    <tr>\n",
       "      <th>1</th>\n",
       "      <td>BC01_rev</td>\n",
       "      <td>812206</td>\n",
       "      <td>o4b01.txt</td>\n",
       "      <td>Barcode</td>\n",
       "      <td>o4</td>\n",
       "      <td>b01</td>\n",
       "    </tr>\n",
       "    <tr>\n",
       "      <th>2</th>\n",
       "      <td>BC01</td>\n",
       "      <td>401603</td>\n",
       "      <td>o4b01.txt</td>\n",
       "      <td>Barcode</td>\n",
       "      <td>o4</td>\n",
       "      <td>b01</td>\n",
       "    </tr>\n",
       "    <tr>\n",
       "      <th>3</th>\n",
       "      <td>PCR_2_start</td>\n",
       "      <td>392930</td>\n",
       "      <td>o4b01.txt</td>\n",
       "      <td>PCR</td>\n",
       "      <td>o4</td>\n",
       "      <td>b01</td>\n",
       "    </tr>\n",
       "    <tr>\n",
       "      <th>4</th>\n",
       "      <td>PCR_1_end</td>\n",
       "      <td>51469</td>\n",
       "      <td>o4b01.txt</td>\n",
       "      <td>PCR</td>\n",
       "      <td>o4</td>\n",
       "      <td>b01</td>\n",
       "    </tr>\n",
       "  </tbody>\n",
       "</table>\n",
       "</div>"
      ],
      "text/plain": [
       "                         Name   count   basename adapter_type sample cell\n",
       "0    SQK-MAP006_Y_Bottom_SK64  821562  o4b01.txt          PCR     o4  b01\n",
       "1                    BC01_rev  812206  o4b01.txt      Barcode     o4  b01\n",
       "2                        BC01  401603  o4b01.txt      Barcode     o4  b01\n",
       "3                 PCR_2_start  392930  o4b01.txt          PCR     o4  b01\n",
       "4                   PCR_1_end   51469  o4b01.txt          PCR     o4  b01"
      ]
     },
     "execution_count": 53,
     "metadata": {},
     "output_type": "execute_result"
    }
   ],
   "source": [
    "def categorize_item(item):\n",
    "    \"\"\"\n",
    "    Categorizes an item as \"barcode\", \"PCR\", or \"adapter\" based on its prefix.\n",
    "\n",
    "    Args:\n",
    "        item (str): The item to categorize.\n",
    "\n",
    "    Returns:\n",
    "        str: The category of the item.\n",
    "    \"\"\"\n",
    "\n",
    "    if \"BC\" in item:\n",
    "        return \"Barcode\"\n",
    "    else:\n",
    "        return \"PCR\"\n",
    "    \n",
    "df['adapter_type'] = df['Name'].apply(lambda x: categorize_item(x))\n",
    "df['sample'] = df['basename'].str[:2]\n",
    "df['cell'] = df['basename'].str[2:5]\n",
    "df.head()"
   ]
  },
  {
   "cell_type": "code",
   "execution_count": 54,
   "id": "257a916e-956a-4074-8efa-6b3f496e3f4f",
   "metadata": {},
   "outputs": [
    {
     "data": {
      "text/plain": [
       "Name\n",
       "SQK-MAP006_Y_Bottom_SK64    102678625\n",
       "PCR_2_start                  88690883\n",
       "PCR_1_end                    39140260\n",
       "PCR_1_start                  36673957\n",
       "BC11_rev                     17282755\n",
       "BC68_rev                     13526010\n",
       "BC11                         12076653\n",
       "BC68                         11059191\n",
       "BC55_rev                      8368905\n",
       "BC55                          8320134\n",
       "Name: count, dtype: int64"
      ]
     },
     "execution_count": 54,
     "metadata": {},
     "output_type": "execute_result"
    }
   ],
   "source": [
    "gx = df.groupby('Name')['count'].sum()\n",
    "gx = gx.sort_values(ascending=False)\n",
    "gx.head(10)"
   ]
  },
  {
   "cell_type": "code",
   "execution_count": null,
   "id": "d90efba2-08e3-4270-a874-31012dcd3014",
   "metadata": {},
   "outputs": [],
   "source": []
  },
  {
   "cell_type": "code",
   "execution_count": null,
   "id": "7349f3bf-4334-4572-8736-03a6c258d4ca",
   "metadata": {},
   "outputs": [],
   "source": []
  },
  {
   "cell_type": "code",
   "execution_count": 57,
   "id": "b24577d8-ce5e-488b-92e9-40685558a54a",
   "metadata": {},
   "outputs": [
    {
     "name": "stdout",
     "output_type": "stream",
     "text": [
      "\\begin{tabular}{llll}\n",
      "\\toprule\n",
      "sample & Barcode & PCR & Total Detected \\\\\n",
      "\\midrule\n",
      "o1 & 41.43 & 58.57 & 37733663 \\\\\n",
      "o2 & 45.21 & 54.79 & 80944949 \\\\\n",
      "o3 & 45.44 & 54.56 & 269214162 \\\\\n",
      "o4 & 44.99 & 55.01 & 104288216 \\\\\n",
      "\\bottomrule\n",
      "\\end{tabular}\n",
      "\n"
     ]
    }
   ],
   "source": [
    "gx = df.groupby(['sample', 'adapter_type']).agg(\n",
    "    total_instances = ('count', 'sum'),\n",
    ").reset_index()\n",
    "\n",
    "\n",
    "gx = pd.pivot(gx, index='sample', columns='adapter_type', values='total_instances')\n",
    "gx['Total Detected'] = gx.sum(axis=1)\n",
    "gx['Barcode'] = (gx['Barcode'] / gx['Total Detected']) * 100\n",
    "gx['PCR'] = (gx['PCR'] / gx['Total Detected']) * 100\n",
    "gx = gx.reset_index()\n",
    "\n",
    "print(gx.round(2).astype(str).to_latex(index=False))"
   ]
  },
  {
   "cell_type": "code",
   "execution_count": 20,
   "id": "2ba29cfb-0c09-4638-bb0e-b1a2d4770254",
   "metadata": {},
   "outputs": [
    {
     "data": {
      "text/plain": [
       "array(['  SQK-MAP006_Y_Bottom_SK64', '  BC01_rev', '  BC01',\n",
       "       '  PCR_2_start', '  PCR_1_end', '  PCR_1_start', '  BC93_rev',\n",
       "       '  BC93', '  BC03_rev', '  BC79_rev', '  BC79', '  BC03',\n",
       "       '  BC55_rev', '  BC55', '  BC24_rev', '  BC09', '  BC68_rev',\n",
       "       '  BC68', '  BC25_rev', '  BC25', '  BC24', '  BC65', '  BC09_rev',\n",
       "       '  BC73_rev', '  SQK-MAP006_Short_Y_Top_LI32', '  BC73',\n",
       "       '  BC06_rev', '  BC65_rev', '  SQK-MAP006_Short_Y_Bottom_LI33',\n",
       "       '  BC05_rev', '  PCR_3_end', '  BC02', '  BC04', '  BC04_rev',\n",
       "       '  PCR_3_start', '  BC06', '  BC14', '  BC10', '  BC02_rev',\n",
       "       '  BC05', '  BC13', '  BC21', '  BC19', '  BC76', '  BC12_rev',\n",
       "       '  BC45', '  BC15', '  BC23', '  BC10_rev', '  BC08',\n",
       "       '  SQK-NSK007_Y_Top', '  BC17', '  BC16', '  BC08_rev', '  BC43',\n",
       "       '  BC46', '  BC12', '  BC13_rev', '  BC20', '  BC34', '  BC11',\n",
       "       '  BC89', '  BC84', '  BC15_rev', '  BC07', '  BC21_rev', '  BC81',\n",
       "       '  BC63', '  BC82', '  BC33', '  BC27', '  BC85', '  BC66',\n",
       "       '  BC54', '  BC72', '  BC11_rev', '  BC70', '  BC83', '  BC49',\n",
       "       '  BC51', '  BC14_rev', '  BC40', '  BC52', '  BC31', '  BC47',\n",
       "       '  BC40_rev', '  BC64', '  BC69', '  BC39', '  BC80', '  BC77',\n",
       "       '  BC78', '  BC50', '  BC37', '  BC60', '  BC17_rev', '  BC75',\n",
       "       '  BC96', '  BC28', '  BC18', '  BC57', '  BC42', '  BC23_rev',\n",
       "       '  BC20_rev', '  BC48', '  BC71', '  BC76_rev', '  BC22',\n",
       "       '  BC19_rev', '  BC26', '  BC41', '  BC69_rev', '  BC45_rev',\n",
       "       '  BC36', '  BC61', '  BC62', '  BC07_rev', '  BC38', '  BC82_rev',\n",
       "       '  BC47_rev', '  BC22_rev', '  BC16_rev', '  BC34_rev', '  BC30',\n",
       "       '  BC70_rev', '  BC54_rev', '  BC27_rev', '  BC57_rev',\n",
       "       '  1D2_part_2_start', '  BC31_rev', '  BC38_rev', '  BC53',\n",
       "       '  BC89_rev', '  BC33_rev', '  BC85_rev', '  BC81_rev',\n",
       "       '  BC43_rev', '  BC61_rev', '  BC18_rev', '  BC66_rev',\n",
       "       '  BC28_rev', '  BC80_rev', '  SQK-MAP006_Y_Top_SK63',\n",
       "       '  BC63_rev', '  BC72_rev', '  BC50_rev', '  BC84_rev',\n",
       "       '  BC75_rev', '  BC41_rev', '  BC83_rev', '  BC46_rev',\n",
       "       '  BC60_rev', '  BC42_rev', '  BC49_rev', '  BC30_rev',\n",
       "       '  BC62_rev', '  BC77_rev', '  BC39_rev', '  BC37_rev',\n",
       "       '  BC71_rev', '  BC48_rev', '  BC26_rev', '  BC52_rev',\n",
       "       '  BC51_rev', '  BC78_rev', '  BC36_rev', '  BC96_rev',\n",
       "       '  BC64_rev', '  PCR_2_end', '  BC53_rev', '  BC94', '  BC88',\n",
       "       '  BC94_rev', '  BC95', '  BC88_rev', '  BC95_rev', '  BC91',\n",
       "       '  BC91_rev', '  BC58_rev', '  BC56', '  BC58', '  BC44', '  BC59',\n",
       "       '  BC35', '  BC90', '  BC32_rev', '  BC86_rev', '  BC86',\n",
       "       '  BC90_rev', '  BC29', '  BC32', '  BC44_rev', '  BC59_rev',\n",
       "       '  BC56_rev', '  BC35_rev', '  BC29_rev', '  BC92', '  BC92_rev',\n",
       "       '  BC87', '  BC67', '  BC67_rev', '  BC87_rev',\n",
       "       '  SQK-NSK007_Y_Bottom', '  BC74_rev', '  BC74',\n",
       "       '  1D2_part_2_end'], dtype=object)"
      ]
     },
     "execution_count": 20,
     "metadata": {},
     "output_type": "execute_result"
    }
   ],
   "source": [
    "df['Name'].unique()"
   ]
  },
  {
   "cell_type": "code",
   "execution_count": null,
   "id": "65283f60-4022-4fbb-8941-361f035a34dd",
   "metadata": {},
   "outputs": [],
   "source": []
  },
  {
   "cell_type": "code",
   "execution_count": null,
   "id": "bc17b9c3-9b57-4b5b-acce-4edeaf09be03",
   "metadata": {},
   "outputs": [],
   "source": []
  },
  {
   "cell_type": "code",
   "execution_count": null,
   "id": "cd64a555-259a-4813-a1e5-a98191c121c1",
   "metadata": {},
   "outputs": [],
   "source": []
  },
  {
   "cell_type": "code",
   "execution_count": null,
   "id": "31900d96-eb32-444c-9240-01af0f5c6225",
   "metadata": {},
   "outputs": [],
   "source": []
  }
 ],
 "metadata": {
  "kernelspec": {
   "display_name": "bioinf",
   "language": "python",
   "name": "bioinf"
  },
  "language_info": {
   "codemirror_mode": {
    "name": "ipython",
    "version": 3
   },
   "file_extension": ".py",
   "mimetype": "text/x-python",
   "name": "python",
   "nbconvert_exporter": "python",
   "pygments_lexer": "ipython3",
   "version": "3.10.14"
  }
 },
 "nbformat": 4,
 "nbformat_minor": 5
}
